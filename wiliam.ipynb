{
 "cells": [
  {
   "cell_type": "code",
   "execution_count": 1,
   "metadata": {},
   "outputs": [],
   "source": [
    "import pandas as pd\n",
    "import matplotlib.pyplot as plt"
   ]
  },
  {
   "cell_type": "code",
   "execution_count": 2,
   "metadata": {},
   "outputs": [],
   "source": [
    "def tamanho_barra(medidas):\n",
    "    barras = []\n",
    "    aproveitamento = []\n",
    "    sobras = []\n",
    "    tamanho = 6000\n",
    "    medidas = sorted(medidas,reverse=True)\n",
    "\n",
    "    while len(medidas) >=1:\n",
    "        j=0\n",
    "        cont = 0\n",
    "        barra = []\n",
    "        sobra = []\n",
    "        medidas = sorted(medidas,reverse=True)\n",
    "        \n",
    "        for i in medidas:\n",
    "            j = j+i\n",
    "            if j< tamanho:\n",
    "                barra.append(i)\n",
    "                sobra.append(i)\n",
    "            else:\n",
    "                j= j-i\n",
    "            cont=cont+1\n",
    "            \n",
    "        for i in sobra:\n",
    "            medidas.remove(i)\n",
    "        barras.append(barra)\n",
    "        soma = sum(barra)\n",
    "        sobra = tamanho - soma\n",
    "        \n",
    "        aproveitamento.append(soma)\n",
    "        sobras.append(sobra)\n",
    "        \n",
    "        metrics = { 'Número de barras':len(barras), 'Medidas de cortes':barras, 'Aproveitamento de cada barra': aproveitamento,\n",
    "                  'Sobra de cada barra': sobras}\n",
    "    return(metrics)"
   ]
  },
  {
   "cell_type": "code",
   "execution_count": 7,
   "metadata": {},
   "outputs": [],
   "source": [
    "medidas = [1250,1575,3420,1500,1117,2100]"
   ]
  },
  {
   "cell_type": "code",
   "execution_count": 8,
   "metadata": {
    "scrolled": true
   },
   "outputs": [
    {
     "data": {
      "text/plain": [
       "{'Número de barras': 2,\n",
       " 'Medidas de cortes': [[3420, 2100], [1575, 1500, 1250, 1117]],\n",
       " 'Aproveitamento de cada barra': [5520, 5442],\n",
       " 'Sobra de cada barra': [480, 558]}"
      ]
     },
     "execution_count": 8,
     "metadata": {},
     "output_type": "execute_result"
    }
   ],
   "source": [
    "tamanho_barra(medidas)"
   ]
  },
  {
   "cell_type": "code",
   "execution_count": null,
   "metadata": {},
   "outputs": [],
   "source": []
  }
 ],
 "metadata": {
  "kernelspec": {
   "display_name": "Python 3",
   "language": "python",
   "name": "python3"
  },
  "language_info": {
   "codemirror_mode": {
    "name": "ipython",
    "version": 3
   },
   "file_extension": ".py",
   "mimetype": "text/x-python",
   "name": "python",
   "nbconvert_exporter": "python",
   "pygments_lexer": "ipython3",
   "version": "3.8.5"
  }
 },
 "nbformat": 4,
 "nbformat_minor": 4
}
