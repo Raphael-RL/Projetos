{
 "cells": [
  {
   "cell_type": "code",
   "execution_count": 1,
   "metadata": {},
   "outputs": [],
   "source": [
    "import pandas as pd\n",
    "import matplotlib.pyplot as plt\n",
    "\n",
    "def tamanho_barra(medidas,quantidades):\n",
    "    barras = []\n",
    "    aproveitamento = []\n",
    "    sobras = []\n",
    "    tamanho = 6000\n",
    "    multi_medidas=[]\n",
    "    \n",
    "    for medida,quantidade in zip(medidas,quantidades):\n",
    "        for k in range(quantidade):\n",
    "            multi_medidas.append(medida)\n",
    "    medidas = multi_medidas   \n",
    "\n",
    "    while len(medidas) >=1:\n",
    "        j=0\n",
    "        cont = 0\n",
    "        barra = []\n",
    "        sobra = []\n",
    "        medidas = sorted(medidas,reverse=True)\n",
    "        \n",
    "        for i in medidas:\n",
    "            j = j+i\n",
    "            if j< tamanho:\n",
    "                barra.append(i)\n",
    "                sobra.append(i)\n",
    "            else:\n",
    "                j= j-i\n",
    "            cont=cont+1\n",
    "            \n",
    "        for i in sobra:\n",
    "            medidas.remove(i)\n",
    "        barras.append(barra)\n",
    "        soma = sum(barra)\n",
    "        sobra = tamanho - soma\n",
    "        \n",
    "        aproveitamento.append(soma)\n",
    "        sobras.append(sobra)\n",
    "        \n",
    "        metrics = { 'Número de barras':len(barras), 'Medidas de cortes':barras, 'Aproveitamento de cada barra': aproveitamento,\n",
    "                  'Sobra de cada barra': sobras}\n",
    "    return(metrics)"
   ]
  },
  {
   "cell_type": "code",
   "execution_count": 2,
   "metadata": {},
   "outputs": [
    {
     "data": {
      "text/plain": [
       "{'Número de barras': 5,\n",
       " 'Medidas de cortes': [[3420, 2100],\n",
       "  [2100, 2100, 1575],\n",
       "  [2100, 1575, 1500],\n",
       "  [1500, 1500, 1250, 1250],\n",
       "  [1250, 1117, 1117]],\n",
       " 'Aproveitamento de cada barra': [5520, 5775, 5175, 5500, 3484],\n",
       " 'Sobra de cada barra': [480, 225, 825, 500, 2516]}"
      ]
     },
     "execution_count": 2,
     "metadata": {},
     "output_type": "execute_result"
    }
   ],
   "source": [
    "medidas = [1250,1575,3420,1500,1117,2100] #tamanho das medidas\n",
    "quantidades = [3,2,1,3,2,4]  #quantidades a ser utilizada, de cada medida\n",
    "tamanho_barra(medidas,quantidades)"
   ]
  }
 ],
 "metadata": {
  "kernelspec": {
   "display_name": "Python 3",
   "language": "python",
   "name": "python3"
  },
  "language_info": {
   "codemirror_mode": {
    "name": "ipython",
    "version": 3
   },
   "file_extension": ".py",
   "mimetype": "text/x-python",
   "name": "python",
   "nbconvert_exporter": "python",
   "pygments_lexer": "ipython3",
   "version": "3.8.5"
  }
 },
 "nbformat": 4,
 "nbformat_minor": 4
}
